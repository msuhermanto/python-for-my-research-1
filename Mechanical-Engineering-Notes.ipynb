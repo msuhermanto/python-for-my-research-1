{
 "cells": [
  {
   "cell_type": "markdown",
   "metadata": {},
   "source": [
    "# Mechanical Engineering\n",
    "## Notes by M. Suhermanto"
   ]
  },
  {
   "cell_type": "markdown",
   "metadata": {},
   "source": [
    "### Contents"
   ]
  },
  {
   "cell_type": "markdown",
   "metadata": {},
   "source": [
    "### 1. Courses\n",
    "1.1 Energy\n",
    "\n",
    "1.2 Dynamics\n",
    "\n",
    "1.3 "
   ]
  },
  {
   "cell_type": "markdown",
   "metadata": {},
   "source": [
    "### 2. Python Sources\n",
    "#### 1.1 Energy\n",
    "##### 1.1.1 Thermodynamics\n",
    "###### Packages\n",
    "Great source from Colabs:https://colab.research.google.com/github/EvenSol/NeqSim-Colab/blob/master/notebooks/examples_of_NeqSim_in_Colab.ipynb\n",
    "https://github.com/EvenSol/NeqSim-Colab\n",
    "\n",
    "Advance (2020): \n",
    "\n",
    "Thermal Engineering System in Python (TESPy)\n",
    "TESPy https://joss.theoj.org/papers/10.21105/joss.02178\n",
    "TESpy doc: https://tespy.readthedocs.io/en/master/tutorials_examples.html\n",
    "\n",
    "CoolProp: \n",
    "CoolProp sample: https://github.com/julionaojulho/thermodynamics/\n",
    "\n",
    "thermo: https://github.com/CalebBell/thermo\n",
    "\n",
    "thermocalc: https://github.com/guillemborrell/thermopy\n",
    "\n",
    "OpenCalphad: https://pypi.org/project/pycalphad/\n",
    "https://nbviewer.jupyter.org/github/pycalphad/pycalphad/tree/master/examples/\n",
    "\n",
    "PYro: http://www.personal.psu.edu/jpm46/pubs/FIE_2016c.pdf\n",
    "http://www.pyromat.org/\n",
    "http://pyro.sourceforge.net/pyrodoc.pdf\n",
    "\n",
    "P-v sample: https://steemit.com/utopian-io/@emirfirlar/how-to-build-thermodynamic-cycle-with-pyromat\n",
    "\n",
    "\n",
    "PVlib = https://pvlib-python.readthedocs.io/en/stable/\n",
    "\n",
    "thermopy = https://pypi.org/project/thermopy/\n",
    "\n",
    "iapws = https://pypi.org/project/iapws/\n",
    "\n",
    "Some randoms blogs:\n",
    "https://manojbits.wordpress.com/2012/09/18/thermodynamics-and-python/\n",
    "\n",
    "AWESOME DOC on THERMODYNAMICS: https://github.com/iurisegtovich/AwesomeThermodynamics\n",
    "\n",
    "\n",
    "\n",
    "#### 1.2. Dynamics\n",
    "##### 1.2.1 Dynamic\n",
    "Basic: https://github.com/andy-pi/python4mechanical-engineers\n",
    "https://andypi.co.uk/2018/08/14/python-for-mechanical-engineers-rail-brake-distance-calculations/\n",
    "\n",
    "pyndamics\n",
    "\n",
    "PyDy: Multibody Dynamics with Python\n",
    "\n",
    "CLassical Mechanics: https://docs.sympy.org/latest/modules/physics/mechanics/index.html\n",
    "\n",
    "\n",
    "\n",
    "##### 1.2.3 Finite Element Analysis (FEA)\n",
    "Course: https://www.youtube.com/channel/UCSuzo0Y-AoEtrFjMaPKc1vA/videos?view_as=subscriber\n",
    "\"A First Course in Finite Elements\" by J. Fish and T. Belytschko, John Wiley & Sons, 2007\n",
    "\n",
    "Code: https://github.com/abuganza/ME489\n",
    "code from UMD: https://github.com/mgreminger/ME5335_notebooks\n",
    "\n",
    "##### 1.2.4 Computational Fluid Dynamics (CFD)\n",
    "https://lorenabarba.com/blog/cfd-python-12-steps-to-navier-stokes/\n",
    "https://github.com/barbagroup/CFDPython\n",
    "https://nbviewer.jupyter.org/github/barbagroup/CFDPython/tree/master/lessons/\n",
    "\n",
    "\n",
    "##### 1.2.5 Numerical Methods for Science and Engineers"
   ]
  },
  {
   "cell_type": "code",
   "execution_count": null,
   "metadata": {},
   "outputs": [],
   "source": []
  },
  {
   "cell_type": "markdown",
   "metadata": {},
   "source": [
    "### 5. Learning Resources\n",
    "\n",
    "Open-Source Project in Engineering:\n",
    "https://tbc-python.fossee.in/book-details/171/\n",
    "\n",
    "Book:\n",
    "1. https://www.wiley.com/en-us/Computational+Physics%3A+Problem+Solving+with+Python%2C+3rd+Edition-p-9783527684694\n",
    "\n",
    "2. Computational Problems for Physics With Guided Solutions Using Python https://www.taylorfrancis.com/books/9781315202099/chapters/10.1201/b22116-7\n",
    "\n",
    "3. http://greenteapress.com/modsimpy/ModSimPy3.pdf\n",
    "https://github.com/AllenDowney/ModSimPy\n",
    "\n",
    "4. https://geosci.uchicago.edu/~rtp1/PythonSupport/PythonNotes.pdf"
   ]
  },
  {
   "cell_type": "markdown",
   "metadata": {},
   "source": [
    "### 6. Thesis & Others\n",
    "Thermo-ML using Python: http://kth.diva-portal.org/smash/get/diva2:1452873/FULLTEXT01.pdf"
   ]
  },
  {
   "cell_type": "markdown",
   "metadata": {},
   "source": [
    "#### Education\n",
    "1. Python for Moodle: https://arxiv.org/abs/2005.00910\n"
   ]
  },
  {
   "cell_type": "markdown",
   "metadata": {},
   "source": [
    "#### 7. Datasets\n",
    "Sources:\n",
    "https://oemof.org/projects/\n",
    "https://openfredproject.wordpress.com/"
   ]
  },
  {
   "cell_type": "markdown",
   "metadata": {},
   "source": [
    "> AWESOME COLLECTION FOR MATH: \n",
    "https://github.com/rossant/awesome-math"
   ]
  },
  {
   "cell_type": "markdown",
   "metadata": {},
   "source": [
    "> AWESOME COLLECTION FOR CS COURSES: \n",
    "https://github.com/prakhar1989/awesome-courses"
   ]
  },
  {
   "cell_type": "code",
   "execution_count": null,
   "metadata": {},
   "outputs": [],
   "source": []
  },
  {
   "cell_type": "code",
   "execution_count": null,
   "metadata": {},
   "outputs": [],
   "source": []
  }
 ],
 "metadata": {
  "kernelspec": {
   "display_name": "Python 3",
   "language": "python",
   "name": "python3"
  },
  "language_info": {
   "codemirror_mode": {
    "name": "ipython",
    "version": 3
   },
   "file_extension": ".py",
   "mimetype": "text/x-python",
   "name": "python",
   "nbconvert_exporter": "python",
   "pygments_lexer": "ipython3",
   "version": "3.7.4"
  }
 },
 "nbformat": 4,
 "nbformat_minor": 4
}
