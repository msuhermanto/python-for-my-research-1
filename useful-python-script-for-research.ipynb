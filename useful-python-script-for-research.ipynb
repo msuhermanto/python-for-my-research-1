{
 "cells": [
  {
   "cell_type": "markdown",
   "metadata": {},
   "source": [
    "# Useful Scripts for Research\n",
    "\n",
    "_Summary:_\n",
    "This notebook is updated regularly based on the necessity and anytime I find anything useful for my learning and research using Python, git-bash and github.\n",
    "\n",
    "> ## Table of Contents\n",
    "> - Markdown Shorcuts\n",
    "> - Data Preparation\n",
    "> - Advance Scripts\n",
    "> - Git & Github"
   ]
  },
  {
   "cell_type": "code",
   "execution_count": null,
   "metadata": {},
   "outputs": [],
   "source": []
  },
  {
   "cell_type": "markdown",
   "metadata": {},
   "source": [
    "## Markdown Shortcuts\n",
    "\n",
    "- Run = `shift` + 'enter'/'return'\n",
    "- insert tab above = `esc` + a \n",
    "- insert tab below = `esc` + b\n",
    "- convert cell into `Markdown` = `esc` + m\n",
    "- convert cell into 'Code' = `esc` + y\n",
    "- undo = `esc` + z\n",
    "- redo = `esc` + shift + z\n",
    "- copy = `esc` + c\n",
    "\n",
    "\n",
    "- inserting equation stats and end with 'dollar sign', such as $f(x) = x^2$\n",
    "- inserting picture: \n",
    "\n",
    "- inserting web/links: "
   ]
  },
  {
   "cell_type": "markdown",
   "metadata": {},
   "source": [
    "## Data Preparation (Python)\n",
    "\n",
    "getting the column name\n",
    "\n",
    "\n"
   ]
  },
  {
   "cell_type": "code",
   "execution_count": null,
   "metadata": {},
   "outputs": [],
   "source": []
  },
  {
   "cell_type": "code",
   "execution_count": null,
   "metadata": {},
   "outputs": [],
   "source": []
  },
  {
   "cell_type": "code",
   "execution_count": null,
   "metadata": {},
   "outputs": [],
   "source": []
  },
  {
   "cell_type": "code",
   "execution_count": null,
   "metadata": {},
   "outputs": [],
   "source": []
  },
  {
   "cell_type": "code",
   "execution_count": null,
   "metadata": {},
   "outputs": [],
   "source": []
  },
  {
   "cell_type": "code",
   "execution_count": null,
   "metadata": {},
   "outputs": [],
   "source": []
  },
  {
   "cell_type": "markdown",
   "metadata": {},
   "source": [
    "Parsing multiple name\n",
    "\n",
    "Cek on: https://www.youtube.com/watch?v=ve2pmm5JqmI"
   ]
  },
  {
   "cell_type": "code",
   "execution_count": null,
   "metadata": {},
   "outputs": [],
   "source": []
  },
  {
   "cell_type": "code",
   "execution_count": null,
   "metadata": {},
   "outputs": [],
   "source": []
  },
  {
   "cell_type": "code",
   "execution_count": null,
   "metadata": {},
   "outputs": [],
   "source": []
  },
  {
   "cell_type": "code",
   "execution_count": null,
   "metadata": {},
   "outputs": [],
   "source": []
  },
  {
   "cell_type": "code",
   "execution_count": null,
   "metadata": {},
   "outputs": [],
   "source": []
  },
  {
   "cell_type": "markdown",
   "metadata": {},
   "source": [
    "# Advance Scripts\n",
    "\n",
    "### Processing a single script for multiple similar files"
   ]
  },
  {
   "cell_type": "code",
   "execution_count": null,
   "metadata": {},
   "outputs": [],
   "source": []
  },
  {
   "cell_type": "code",
   "execution_count": null,
   "metadata": {},
   "outputs": [],
   "source": []
  },
  {
   "cell_type": "markdown",
   "metadata": {},
   "source": [
    "# Git and Github"
   ]
  },
  {
   "cell_type": "markdown",
   "metadata": {},
   "source": [
    "## Git Command\n",
    "\n",
    "* `mkdir` --> to make directory/folder\n",
    "* `cd {dirName}` --> to go to {dirName}\n",
    "* `cd ..` --> to go to upper folder\n",
    "* `ls` --> to get list of folder & files\n",
    "* `ls -a` --> to get all lists includes git\n",
    "* `touch {fileName.ext}` --> to create a file with specific extension\n",
    "* `mv {oldFileName.ext} {newFileName.ext}` --> Change the name of file\n",
    "* `touch new-folder/style.css` --> create file in specific folder\n",
    "* `ls new-folder/` --> check list of files in specific folder\n",
    "* `cp style.css` .. --> copy file in the upper folder\n",
    "* `rm style.css` --> to remove a file\n",
    "* `rm -rf {folderName}` --> to remove folder"
   ]
  },
  {
   "cell_type": "code",
   "execution_count": null,
   "metadata": {},
   "outputs": [],
   "source": []
  }
 ],
 "metadata": {
  "kernelspec": {
   "display_name": "Python 3",
   "language": "python",
   "name": "python3"
  },
  "language_info": {
   "codemirror_mode": {
    "name": "ipython",
    "version": 3
   },
   "file_extension": ".py",
   "mimetype": "text/x-python",
   "name": "python",
   "nbconvert_exporter": "python",
   "pygments_lexer": "ipython3",
   "version": "3.7.4"
  }
 },
 "nbformat": 4,
 "nbformat_minor": 4
}
